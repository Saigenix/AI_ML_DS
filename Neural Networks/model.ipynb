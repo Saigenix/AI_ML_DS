{
 "cells": [
  {
   "attachments": {},
   "cell_type": "markdown",
   "metadata": {},
   "source": [
    "# Neural network \n"
   ]
  },
  {
   "cell_type": "code",
   "execution_count": 2,
   "metadata": {},
   "outputs": [],
   "source": [
    "# import all required stuff\n",
    "import numpy as np\n",
    "import matplotlib.pyplot\n",
    "%matplotlib inline "
   ]
  },
  {
   "cell_type": "code",
   "execution_count": 6,
   "metadata": {},
   "outputs": [],
   "source": [
    "# neural network class\n",
    "\n",
    "class NeuralNetwork:\n",
    "    def __init__(self,ILayerNodes, HLayerNodes,OLayerNodes,LearningRate):\n",
    "        self.ILayerNodes = ILayerNodes\n",
    "        self.HLayerNodes = HLayerNodes\n",
    "        self.OLayerNodes = OLayerNodes\n",
    "        self.lr = LearningRate\n",
    "        self.wih = np.random.normal(0.0, pow(self.HLayerNodes, -0.5),(self.HLayerNodes, self.ILayerNodes)) \n",
    "        self.who = np.random.normal(0.0,pow(self.OLayerNodes, -0.5), (self.OLayerNodes, self.HLayerNodes))\n",
    "    # train neural network\n",
    "    def train():\n",
    "        pass\n",
    "    \n",
    "    # Query neural network\n",
    "    def query():\n",
    "        pass"
   ]
  },
  {
   "cell_type": "code",
   "execution_count": 7,
   "metadata": {},
   "outputs": [
    {
     "data": {
      "text/plain": [
       "array([[ 0.85249485,  0.33512265,  0.06812529],\n",
       "       [ 0.47617154,  0.88069252, -0.05977393],\n",
       "       [ 1.48221009,  1.30987504,  0.67152626]])"
      ]
     },
     "execution_count": 7,
     "metadata": {},
     "output_type": "execute_result"
    }
   ],
   "source": [
    "# creating model\n",
    "iNodes = 3\n",
    "hNodes = 3\n",
    "oNodes = 3\n",
    "lr = 0.5\n",
    "\n",
    "model = NeuralNetwork(iNodes,hNodes,oNodes,lr)\n",
    "#model.wih"
   ]
  }
 ],
 "metadata": {
  "kernelspec": {
   "display_name": "myenv",
   "language": "python",
   "name": "python3"
  },
  "language_info": {
   "codemirror_mode": {
    "name": "ipython",
    "version": 3
   },
   "file_extension": ".py",
   "mimetype": "text/x-python",
   "name": "python",
   "nbconvert_exporter": "python",
   "pygments_lexer": "ipython3",
   "version": "3.10.8"
  },
  "orig_nbformat": 4,
  "vscode": {
   "interpreter": {
    "hash": "582322c9d0b332446028337c6d3a4409c9f39c068ad35449e4780fc288738963"
   }
  }
 },
 "nbformat": 4,
 "nbformat_minor": 2
}
