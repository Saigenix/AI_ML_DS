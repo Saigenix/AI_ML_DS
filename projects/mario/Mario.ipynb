{
 "cells": [
  {
   "attachments": {},
   "cell_type": "markdown",
   "metadata": {},
   "source": [
    "# Mario using Ai"
   ]
  },
  {
   "cell_type": "code",
   "execution_count": 3,
   "metadata": {},
   "outputs": [
    {
     "name": "stdout",
     "output_type": "stream",
     "text": [
      "Collecting gym-super-mario-bros\n",
      "  Using cached gym_super_mario_bros-7.4.0-py3-none-any.whl (199 kB)\n",
      "Collecting nes-py>=8.1.4\n",
      "  Using cached nes_py-8.2.1.tar.gz (77 kB)\n",
      "  Preparing metadata (setup.py): started\n",
      "  Preparing metadata (setup.py): finished with status 'done'\n",
      "Requirement already satisfied: gym>=0.17.2 in c:\\users\\radhika\\appdata\\local\\programs\\python\\python310\\lib\\site-packages (from nes-py>=8.1.4->gym-super-mario-bros) (0.26.2)\n",
      "Requirement already satisfied: numpy>=1.18.5 in c:\\users\\radhika\\appdata\\local\\programs\\python\\python310\\lib\\site-packages (from nes-py>=8.1.4->gym-super-mario-bros) (1.22.2)\n",
      "Requirement already satisfied: pyglet<=1.5.21,>=1.4.0 in c:\\users\\radhika\\appdata\\local\\programs\\python\\python310\\lib\\site-packages (from nes-py>=8.1.4->gym-super-mario-bros) (1.5.21)\n",
      "Requirement already satisfied: tqdm>=4.48.2 in c:\\users\\radhika\\appdata\\local\\programs\\python\\python310\\lib\\site-packages (from nes-py>=8.1.4->gym-super-mario-bros) (4.62.3)\n",
      "Requirement already satisfied: cloudpickle>=1.2.0 in c:\\users\\radhika\\appdata\\local\\programs\\python\\python310\\lib\\site-packages (from gym>=0.17.2->nes-py>=8.1.4->gym-super-mario-bros) (2.2.0)\n",
      "Requirement already satisfied: gym-notices>=0.0.4 in c:\\users\\radhika\\appdata\\local\\programs\\python\\python310\\lib\\site-packages (from gym>=0.17.2->nes-py>=8.1.4->gym-super-mario-bros) (0.0.8)\n",
      "Requirement already satisfied: colorama in c:\\users\\radhika\\appdata\\local\\programs\\python\\python310\\lib\\site-packages (from tqdm>=4.48.2->nes-py>=8.1.4->gym-super-mario-bros) (0.4.4)\n",
      "Installing collected packages: nes-py, gym-super-mario-bros\n",
      "  Running setup.py install for nes-py: started\n",
      "  Running setup.py install for nes-py: finished with status 'error'\n",
      "Note: you may need to restart the kernel to use updated packages.\n"
     ]
    },
    {
     "name": "stderr",
     "output_type": "stream",
     "text": [
      "  DEPRECATION: nes-py is being installed using the legacy 'setup.py install' method, because it does not have a 'pyproject.toml' and the 'wheel' package is not installed. pip 23.1 will enforce this behaviour change. A possible replacement is to enable the '--use-pep517' option. Discussion can be found at https://github.com/pypa/pip/issues/8559\n",
      "  error: subprocess-exited-with-error\n",
      "  \n",
      "  × Running setup.py install for nes-py did not run successfully.\n",
      "  │ exit code: 1\n",
      "  ╰─> [21 lines of output]\n",
      "      running install\n",
      "      running build\n",
      "      running build_py\n",
      "      creating build\n",
      "      creating build\\lib.win-amd64-3.10\n",
      "      creating build\\lib.win-amd64-3.10\\nes_py\n",
      "      copying nes_py\\nes_env.py -> build\\lib.win-amd64-3.10\\nes_py\n",
      "      copying nes_py\\_image_viewer.py -> build\\lib.win-amd64-3.10\\nes_py\n",
      "      copying nes_py\\_rom.py -> build\\lib.win-amd64-3.10\\nes_py\n",
      "      copying nes_py\\__init__.py -> build\\lib.win-amd64-3.10\\nes_py\n",
      "      creating build\\lib.win-amd64-3.10\\nes_py\\app\n",
      "      copying nes_py\\app\\cli.py -> build\\lib.win-amd64-3.10\\nes_py\\app\n",
      "      copying nes_py\\app\\play_human.py -> build\\lib.win-amd64-3.10\\nes_py\\app\n",
      "      copying nes_py\\app\\play_random.py -> build\\lib.win-amd64-3.10\\nes_py\\app\n",
      "      copying nes_py\\app\\__init__.py -> build\\lib.win-amd64-3.10\\nes_py\\app\n",
      "      creating build\\lib.win-amd64-3.10\\nes_py\\wrappers\n",
      "      copying nes_py\\wrappers\\joypad_space.py -> build\\lib.win-amd64-3.10\\nes_py\\wrappers\n",
      "      copying nes_py\\wrappers\\__init__.py -> build\\lib.win-amd64-3.10\\nes_py\\wrappers\n",
      "      running build_ext\n",
      "      building 'nes_py.lib_nes_env' extension\n",
      "      error: Microsoft Visual C++ 14.0 or greater is required. Get it with \"Microsoft C++ Build Tools\": https://visualstudio.microsoft.com/visual-cpp-build-tools/\n",
      "      [end of output]\n",
      "  \n",
      "  note: This error originates from a subprocess, and is likely not a problem with pip.\n",
      "error: legacy-install-failure\n",
      "\n",
      "× Encountered error while trying to install package.\n",
      "╰─> nes-py\n",
      "\n",
      "note: This is an issue with the package mentioned above, not pip.\n",
      "hint: See above for output from the failure.\n"
     ]
    }
   ],
   "source": [
    "# setup game\n",
    "%pip install gym-super-mario-bros"
   ]
  }
 ],
 "metadata": {
  "kernelspec": {
   "display_name": "Python 3",
   "language": "python",
   "name": "python3"
  },
  "language_info": {
   "codemirror_mode": {
    "name": "ipython",
    "version": 3
   },
   "file_extension": ".py",
   "mimetype": "text/x-python",
   "name": "python",
   "nbconvert_exporter": "python",
   "pygments_lexer": "ipython3",
   "version": "3.10.1"
  },
  "orig_nbformat": 4,
  "vscode": {
   "interpreter": {
    "hash": "bf71d659e7e25352b50d2f3f5a2bfa61015390b74d7295811df919d4dba6767b"
   }
  }
 },
 "nbformat": 4,
 "nbformat_minor": 2
}
