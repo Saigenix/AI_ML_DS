{
 "cells": [
  {
   "attachments": {},
   "cell_type": "markdown",
   "metadata": {},
   "source": [
    "# Mario using Ai"
   ]
  },
  {
   "cell_type": "code",
   "execution_count": 1,
   "metadata": {},
   "outputs": [
    {
     "name": "stdout",
     "output_type": "stream",
     "text": [
      "^C\n",
      "Note: you may need to restart the kernel to use updated packages.\n"
     ]
    },
    {
     "name": "stdout",
     "output_type": "stream",
     "text": [
      "Collecting gym-super-mario-bros\n",
      "  Using cached gym_super_mario_bros-7.4.0-py3-none-any.whl (199 kB)\n",
      "Collecting nes-py>=8.1.4\n",
      "  Using cached nes_py-8.2.1.tar.gz (77 kB)\n",
      "  Preparing metadata (setup.py): started\n",
      "  Preparing metadata (setup.py): finished with status 'done'\n",
      "Collecting gym>=0.17.2\n",
      "  Using cached gym-0.26.2-py3-none-any.whl\n",
      "Requirement already satisfied: numpy>=1.18.5 in c:\\users\\radhika\\miniconda3\\envs\\myenv\\lib\\site-packages (from nes-py>=8.1.4->gym-super-mario-bros) (1.24.1)\n",
      "Collecting pyglet<=1.5.21,>=1.4.0\n",
      "  Using cached pyglet-1.5.21-py3-none-any.whl (1.1 MB)\n",
      "Collecting tqdm>=4.48.2\n",
      "  Downloading tqdm-4.64.1-py2.py3-none-any.whl (78 kB)\n",
      "     -------------------------------------- 78.5/78.5 kB 874.7 kB/s eta 0:00:00\n",
      "Collecting cloudpickle>=1.2.0\n",
      "  Using cached cloudpickle-2.2.0-py3-none-any.whl (25 kB)\n",
      "Collecting gym-notices>=0.0.4\n",
      "  Using cached gym_notices-0.0.8-py3-none-any.whl (3.0 kB)\n",
      "Requirement already satisfied: colorama in c:\\users\\radhika\\miniconda3\\envs\\myenv\\lib\\site-packages (from tqdm>=4.48.2->nes-py>=8.1.4->gym-super-mario-bros) (0.4.6)\n",
      "Building wheels for collected packages: nes-py\n",
      "  Building wheel for nes-py (setup.py): started\n",
      "  Building wheel for nes-py (setup.py): finished with status 'done'\n",
      "  Created wheel for nes-py: filename=nes_py-8.2.1-cp310-cp310-win_amd64.whl size=45799 sha256=4269eb86efa01b1751f078326610104828bb27a4328574a32027a3c4a452c5bf\n",
      "  Stored in directory: c:\\users\\radhika\\appdata\\local\\pip\\cache\\wheels\\bc\\1a\\6e\\27afc1393514b773012ff8d89f77ed4fa02055aa36f39d43df\n",
      "Successfully built nes-py\n",
      "Installing collected packages: pyglet, gym-notices, tqdm, cloudpickle, gym, nes-py, gym-super-mario-bros\n",
      "Successfully installed cloudpickle-2.2.0 gym-0.26.2 gym-notices-0.0.8 gym-super-mario-bros-7.4.0 nes-py-8.2.1 pyglet-1.5.21 tqdm-4.64.1\n"
     ]
    }
   ],
   "source": [
    "# setup game\n",
    "%pip install gym-super-mario-bros"
   ]
  }
 ],
 "metadata": {
  "kernelspec": {
   "display_name": "myenv",
   "language": "python",
   "name": "python3"
  },
  "language_info": {
   "codemirror_mode": {
    "name": "ipython",
    "version": 3
   },
   "file_extension": ".py",
   "mimetype": "text/x-python",
   "name": "python",
   "nbconvert_exporter": "python",
   "pygments_lexer": "ipython3",
   "version": "3.10.8"
  },
  "orig_nbformat": 4,
  "vscode": {
   "interpreter": {
    "hash": "582322c9d0b332446028337c6d3a4409c9f39c068ad35449e4780fc288738963"
   }
  }
 },
 "nbformat": 4,
 "nbformat_minor": 2
}
