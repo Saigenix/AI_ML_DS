{
 "cells": [
  {
   "cell_type": "markdown",
   "metadata": {},
   "source": [
    "# Pandas Practice\n",
    "\n",
    "This notebook is dedicated to practicing different tasks with pandas. The solutions are available in a solutions notebook, however, you should always try to figure them out yourself first.\n",
    "\n",
    "It should be noted there may be more than one different way to answer a question or complete an exercise.\n",
    "\n",
    "Exercises are based off (and directly taken from) the quick introduction to pandas notebook.\n",
    "\n",
    "Different tasks will be detailed by comments or text.\n",
    "\n",
    "For further reference and resources, it's advised to check out the [pandas documentation](https://pandas.pydata.org/pandas-docs/stable/)."
   ]
  },
  {
   "cell_type": "code",
   "execution_count": 89,
   "metadata": {},
   "outputs": [],
   "source": [
    "# Import pandas\n",
    "import pandas as pd"
   ]
  },
  {
   "cell_type": "code",
   "execution_count": 90,
   "metadata": {},
   "outputs": [],
   "source": [
    "# Create a series of three different colours\n",
    "color_series = pd.Series(['Red', 'Green', 'Blue'])"
   ]
  },
  {
   "cell_type": "code",
   "execution_count": 91,
   "metadata": {},
   "outputs": [
    {
     "data": {
      "text/plain": [
       "0      Red\n",
       "1    Green\n",
       "2     Blue\n",
       "dtype: object"
      ]
     },
     "execution_count": 91,
     "metadata": {},
     "output_type": "execute_result"
    }
   ],
   "source": [
    "# View the series of different colours\n",
    "color_series"
   ]
  },
  {
   "cell_type": "code",
   "execution_count": 92,
   "metadata": {},
   "outputs": [],
   "source": [
    "# Create a series of three different car types and view it\n",
    "car_series = pd.Series(['Toyota', 'Ford', 'Honda'])"
   ]
  },
  {
   "cell_type": "code",
   "execution_count": 1,
   "metadata": {},
   "outputs": [
    {
     "ename": "NameError",
     "evalue": "name 'pd' is not defined",
     "output_type": "error",
     "traceback": [
      "\u001b[1;31m---------------------------------------------------------------------------\u001b[0m",
      "\u001b[1;31mNameError\u001b[0m                                 Traceback (most recent call last)",
      "\u001b[1;32m~\\AppData\\Local\\Temp/ipykernel_10036/617758740.py\u001b[0m in \u001b[0;36m<module>\u001b[1;34m\u001b[0m\n\u001b[0;32m      1\u001b[0m \u001b[1;31m# Combine the Series of cars and colours into a DataFrame\u001b[0m\u001b[1;33m\u001b[0m\u001b[1;33m\u001b[0m\u001b[0m\n\u001b[1;32m----> 2\u001b[1;33m \u001b[0mdata_frame\u001b[0m \u001b[1;33m=\u001b[0m \u001b[0mpd\u001b[0m\u001b[1;33m.\u001b[0m\u001b[0mDataFrame\u001b[0m\u001b[1;33m(\u001b[0m\u001b[1;33m{\u001b[0m\u001b[1;34m'Colour'\u001b[0m\u001b[1;33m:\u001b[0m \u001b[0mcolor_series\u001b[0m\u001b[1;33m,\u001b[0m \u001b[1;34m'Car'\u001b[0m\u001b[1;33m:\u001b[0m \u001b[0mcar_series\u001b[0m\u001b[1;33m}\u001b[0m\u001b[1;33m)\u001b[0m\u001b[1;33m\u001b[0m\u001b[1;33m\u001b[0m\u001b[0m\n\u001b[0m",
      "\u001b[1;31mNameError\u001b[0m: name 'pd' is not defined"
     ]
    }
   ],
   "source": [
    "# Combine the Series of cars and colours into a DataFrame\n",
    "data_frame = pd.DataFrame({'Colour': color_series, 'Car': car_series})"
   ]
  },
  {
   "cell_type": "code",
   "execution_count": 94,
   "metadata": {},
   "outputs": [
    {
     "data": {
      "text/html": [
       "<div>\n",
       "<style scoped>\n",
       "    .dataframe tbody tr th:only-of-type {\n",
       "        vertical-align: middle;\n",
       "    }\n",
       "\n",
       "    .dataframe tbody tr th {\n",
       "        vertical-align: top;\n",
       "    }\n",
       "\n",
       "    .dataframe thead th {\n",
       "        text-align: right;\n",
       "    }\n",
       "</style>\n",
       "<table border=\"1\" class=\"dataframe\">\n",
       "  <thead>\n",
       "    <tr style=\"text-align: right;\">\n",
       "      <th></th>\n",
       "      <th>Make</th>\n",
       "      <th>Colour</th>\n",
       "      <th>Odometer (KM)</th>\n",
       "      <th>Doors</th>\n",
       "      <th>Price</th>\n",
       "    </tr>\n",
       "  </thead>\n",
       "  <tbody>\n",
       "    <tr>\n",
       "      <th>0</th>\n",
       "      <td>Toyota</td>\n",
       "      <td>White</td>\n",
       "      <td>150043</td>\n",
       "      <td>4</td>\n",
       "      <td>$4,000.00</td>\n",
       "    </tr>\n",
       "    <tr>\n",
       "      <th>1</th>\n",
       "      <td>Honda</td>\n",
       "      <td>Red</td>\n",
       "      <td>87899</td>\n",
       "      <td>4</td>\n",
       "      <td>$5,000.00</td>\n",
       "    </tr>\n",
       "    <tr>\n",
       "      <th>2</th>\n",
       "      <td>Toyota</td>\n",
       "      <td>Blue</td>\n",
       "      <td>32549</td>\n",
       "      <td>3</td>\n",
       "      <td>$7,000.00</td>\n",
       "    </tr>\n",
       "    <tr>\n",
       "      <th>3</th>\n",
       "      <td>BMW</td>\n",
       "      <td>Black</td>\n",
       "      <td>11179</td>\n",
       "      <td>5</td>\n",
       "      <td>$22,000.00</td>\n",
       "    </tr>\n",
       "    <tr>\n",
       "      <th>4</th>\n",
       "      <td>Nissan</td>\n",
       "      <td>White</td>\n",
       "      <td>213095</td>\n",
       "      <td>4</td>\n",
       "      <td>$3,500.00</td>\n",
       "    </tr>\n",
       "    <tr>\n",
       "      <th>5</th>\n",
       "      <td>Toyota</td>\n",
       "      <td>Green</td>\n",
       "      <td>99213</td>\n",
       "      <td>4</td>\n",
       "      <td>$4,500.00</td>\n",
       "    </tr>\n",
       "    <tr>\n",
       "      <th>6</th>\n",
       "      <td>Honda</td>\n",
       "      <td>Blue</td>\n",
       "      <td>45698</td>\n",
       "      <td>4</td>\n",
       "      <td>$7,500.00</td>\n",
       "    </tr>\n",
       "    <tr>\n",
       "      <th>7</th>\n",
       "      <td>Honda</td>\n",
       "      <td>Blue</td>\n",
       "      <td>54738</td>\n",
       "      <td>4</td>\n",
       "      <td>$7,000.00</td>\n",
       "    </tr>\n",
       "    <tr>\n",
       "      <th>8</th>\n",
       "      <td>Toyota</td>\n",
       "      <td>White</td>\n",
       "      <td>60000</td>\n",
       "      <td>4</td>\n",
       "      <td>$6,250.00</td>\n",
       "    </tr>\n",
       "    <tr>\n",
       "      <th>9</th>\n",
       "      <td>Nissan</td>\n",
       "      <td>White</td>\n",
       "      <td>31600</td>\n",
       "      <td>4</td>\n",
       "      <td>$9,700.00</td>\n",
       "    </tr>\n",
       "  </tbody>\n",
       "</table>\n",
       "</div>"
      ],
      "text/plain": [
       "     Make Colour  Odometer (KM)  Doors       Price\n",
       "0  Toyota  White         150043      4   $4,000.00\n",
       "1   Honda    Red          87899      4   $5,000.00\n",
       "2  Toyota   Blue          32549      3   $7,000.00\n",
       "3     BMW  Black          11179      5  $22,000.00\n",
       "4  Nissan  White         213095      4   $3,500.00\n",
       "5  Toyota  Green          99213      4   $4,500.00\n",
       "6   Honda   Blue          45698      4   $7,500.00\n",
       "7   Honda   Blue          54738      4   $7,000.00\n",
       "8  Toyota  White          60000      4   $6,250.00\n",
       "9  Nissan  White          31600      4   $9,700.00"
      ]
     },
     "execution_count": 94,
     "metadata": {},
     "output_type": "execute_result"
    }
   ],
   "source": [
    "# Import \"../data/car-sales.csv\" and turn it into a DataFrame\n",
    "car_sales = pd.read_csv('../car-sales.csv')\n",
    "car_sales"
   ]
  },
  {
   "cell_type": "markdown",
   "metadata": {},
   "source": [
    "**Note:** Since you've imported `../data/car-sales.csv` as a DataFrame, we'll now refer to this DataFrame as 'the car sales DataFrame'."
   ]
  },
  {
   "cell_type": "code",
   "execution_count": 95,
   "metadata": {},
   "outputs": [],
   "source": [
    "# Export the DataFrame you created to a .csv file\n",
    "car_sales.to_csv('car-sales_test.csv')"
   ]
  },
  {
   "cell_type": "code",
   "execution_count": 96,
   "metadata": {},
   "outputs": [
    {
     "data": {
      "text/plain": [
       "Make             object\n",
       "Colour           object\n",
       "Odometer (KM)     int64\n",
       "Doors             int64\n",
       "Price            object\n",
       "dtype: object"
      ]
     },
     "execution_count": 96,
     "metadata": {},
     "output_type": "execute_result"
    }
   ],
   "source": [
    "# Find the different datatypes of the car data DataFrame\n",
    "car_sales.dtypes\n"
   ]
  },
  {
   "cell_type": "code",
   "execution_count": 97,
   "metadata": {},
   "outputs": [
    {
     "data": {
      "text/html": [
       "<div>\n",
       "<style scoped>\n",
       "    .dataframe tbody tr th:only-of-type {\n",
       "        vertical-align: middle;\n",
       "    }\n",
       "\n",
       "    .dataframe tbody tr th {\n",
       "        vertical-align: top;\n",
       "    }\n",
       "\n",
       "    .dataframe thead th {\n",
       "        text-align: right;\n",
       "    }\n",
       "</style>\n",
       "<table border=\"1\" class=\"dataframe\">\n",
       "  <thead>\n",
       "    <tr style=\"text-align: right;\">\n",
       "      <th></th>\n",
       "      <th>Odometer (KM)</th>\n",
       "      <th>Doors</th>\n",
       "    </tr>\n",
       "  </thead>\n",
       "  <tbody>\n",
       "    <tr>\n",
       "      <th>count</th>\n",
       "      <td>10.000000</td>\n",
       "      <td>10.000000</td>\n",
       "    </tr>\n",
       "    <tr>\n",
       "      <th>mean</th>\n",
       "      <td>78601.400000</td>\n",
       "      <td>4.000000</td>\n",
       "    </tr>\n",
       "    <tr>\n",
       "      <th>std</th>\n",
       "      <td>61983.471735</td>\n",
       "      <td>0.471405</td>\n",
       "    </tr>\n",
       "    <tr>\n",
       "      <th>min</th>\n",
       "      <td>11179.000000</td>\n",
       "      <td>3.000000</td>\n",
       "    </tr>\n",
       "    <tr>\n",
       "      <th>25%</th>\n",
       "      <td>35836.250000</td>\n",
       "      <td>4.000000</td>\n",
       "    </tr>\n",
       "    <tr>\n",
       "      <th>50%</th>\n",
       "      <td>57369.000000</td>\n",
       "      <td>4.000000</td>\n",
       "    </tr>\n",
       "    <tr>\n",
       "      <th>75%</th>\n",
       "      <td>96384.500000</td>\n",
       "      <td>4.000000</td>\n",
       "    </tr>\n",
       "    <tr>\n",
       "      <th>max</th>\n",
       "      <td>213095.000000</td>\n",
       "      <td>5.000000</td>\n",
       "    </tr>\n",
       "  </tbody>\n",
       "</table>\n",
       "</div>"
      ],
      "text/plain": [
       "       Odometer (KM)      Doors\n",
       "count      10.000000  10.000000\n",
       "mean    78601.400000   4.000000\n",
       "std     61983.471735   0.471405\n",
       "min     11179.000000   3.000000\n",
       "25%     35836.250000   4.000000\n",
       "50%     57369.000000   4.000000\n",
       "75%     96384.500000   4.000000\n",
       "max    213095.000000   5.000000"
      ]
     },
     "execution_count": 97,
     "metadata": {},
     "output_type": "execute_result"
    }
   ],
   "source": [
    "# Describe your current car sales DataFrame using describe()\n",
    "car_sales.describe()"
   ]
  },
  {
   "cell_type": "code",
   "execution_count": 98,
   "metadata": {},
   "outputs": [
    {
     "name": "stdout",
     "output_type": "stream",
     "text": [
      "<class 'pandas.core.frame.DataFrame'>\n",
      "RangeIndex: 10 entries, 0 to 9\n",
      "Data columns (total 5 columns):\n",
      " #   Column         Non-Null Count  Dtype \n",
      "---  ------         --------------  ----- \n",
      " 0   Make           10 non-null     object\n",
      " 1   Colour         10 non-null     object\n",
      " 2   Odometer (KM)  10 non-null     int64 \n",
      " 3   Doors          10 non-null     int64 \n",
      " 4   Price          10 non-null     object\n",
      "dtypes: int64(2), object(3)\n",
      "memory usage: 528.0+ bytes\n"
     ]
    }
   ],
   "source": [
    "# Get information about your DataFrame using info()\n",
    "car_sales.info()"
   ]
  },
  {
   "cell_type": "markdown",
   "metadata": {},
   "source": [
    "What does it show you?"
   ]
  },
  {
   "cell_type": "code",
   "execution_count": 99,
   "metadata": {},
   "outputs": [
    {
     "data": {
      "text/plain": [
       "5.5"
      ]
     },
     "execution_count": 99,
     "metadata": {},
     "output_type": "execute_result"
    }
   ],
   "source": [
    "# Create a Series of different numbers and find the mean of them\n",
    "number_series = pd.Series([1, 2, 3, 4, 5, 6, 7, 8, 9, 10])\n",
    "number_series.mean()"
   ]
  },
  {
   "cell_type": "code",
   "execution_count": 100,
   "metadata": {},
   "outputs": [
    {
     "data": {
      "text/plain": [
       "55"
      ]
     },
     "execution_count": 100,
     "metadata": {},
     "output_type": "execute_result"
    }
   ],
   "source": [
    "# Create a Series of different numbers and find the sum of them\n",
    "number_series.sum()"
   ]
  },
  {
   "cell_type": "code",
   "execution_count": 101,
   "metadata": {},
   "outputs": [
    {
     "data": {
      "text/plain": [
       "Index(['Make', 'Colour', 'Odometer (KM)', 'Doors', 'Price'], dtype='object')"
      ]
     },
     "execution_count": 101,
     "metadata": {},
     "output_type": "execute_result"
    }
   ],
   "source": [
    "# List out all the column names of the car sales DataFrame\n",
    "car_sales.columns"
   ]
  },
  {
   "cell_type": "code",
   "execution_count": 102,
   "metadata": {},
   "outputs": [
    {
     "data": {
      "text/plain": [
       "10"
      ]
     },
     "execution_count": 102,
     "metadata": {},
     "output_type": "execute_result"
    }
   ],
   "source": [
    "# Find the length of the car sales DataFrame\n",
    "car_sales.shape[0]"
   ]
  },
  {
   "cell_type": "code",
   "execution_count": 103,
   "metadata": {},
   "outputs": [
    {
     "data": {
      "text/html": [
       "<div>\n",
       "<style scoped>\n",
       "    .dataframe tbody tr th:only-of-type {\n",
       "        vertical-align: middle;\n",
       "    }\n",
       "\n",
       "    .dataframe tbody tr th {\n",
       "        vertical-align: top;\n",
       "    }\n",
       "\n",
       "    .dataframe thead th {\n",
       "        text-align: right;\n",
       "    }\n",
       "</style>\n",
       "<table border=\"1\" class=\"dataframe\">\n",
       "  <thead>\n",
       "    <tr style=\"text-align: right;\">\n",
       "      <th></th>\n",
       "      <th>Make</th>\n",
       "      <th>Colour</th>\n",
       "      <th>Odometer (KM)</th>\n",
       "      <th>Doors</th>\n",
       "      <th>Price</th>\n",
       "    </tr>\n",
       "  </thead>\n",
       "  <tbody>\n",
       "    <tr>\n",
       "      <th>0</th>\n",
       "      <td>Toyota</td>\n",
       "      <td>White</td>\n",
       "      <td>150043</td>\n",
       "      <td>4</td>\n",
       "      <td>$4,000.00</td>\n",
       "    </tr>\n",
       "    <tr>\n",
       "      <th>1</th>\n",
       "      <td>Honda</td>\n",
       "      <td>Red</td>\n",
       "      <td>87899</td>\n",
       "      <td>4</td>\n",
       "      <td>$5,000.00</td>\n",
       "    </tr>\n",
       "    <tr>\n",
       "      <th>2</th>\n",
       "      <td>Toyota</td>\n",
       "      <td>Blue</td>\n",
       "      <td>32549</td>\n",
       "      <td>3</td>\n",
       "      <td>$7,000.00</td>\n",
       "    </tr>\n",
       "    <tr>\n",
       "      <th>3</th>\n",
       "      <td>BMW</td>\n",
       "      <td>Black</td>\n",
       "      <td>11179</td>\n",
       "      <td>5</td>\n",
       "      <td>$22,000.00</td>\n",
       "    </tr>\n",
       "    <tr>\n",
       "      <th>4</th>\n",
       "      <td>Nissan</td>\n",
       "      <td>White</td>\n",
       "      <td>213095</td>\n",
       "      <td>4</td>\n",
       "      <td>$3,500.00</td>\n",
       "    </tr>\n",
       "  </tbody>\n",
       "</table>\n",
       "</div>"
      ],
      "text/plain": [
       "     Make Colour  Odometer (KM)  Doors       Price\n",
       "0  Toyota  White         150043      4   $4,000.00\n",
       "1   Honda    Red          87899      4   $5,000.00\n",
       "2  Toyota   Blue          32549      3   $7,000.00\n",
       "3     BMW  Black          11179      5  $22,000.00\n",
       "4  Nissan  White         213095      4   $3,500.00"
      ]
     },
     "execution_count": 103,
     "metadata": {},
     "output_type": "execute_result"
    }
   ],
   "source": [
    "# Show the first 5 rows of the car sales DataFrame\n",
    "car_sales.head(5)"
   ]
  },
  {
   "cell_type": "code",
   "execution_count": 104,
   "metadata": {},
   "outputs": [
    {
     "data": {
      "text/html": [
       "<div>\n",
       "<style scoped>\n",
       "    .dataframe tbody tr th:only-of-type {\n",
       "        vertical-align: middle;\n",
       "    }\n",
       "\n",
       "    .dataframe tbody tr th {\n",
       "        vertical-align: top;\n",
       "    }\n",
       "\n",
       "    .dataframe thead th {\n",
       "        text-align: right;\n",
       "    }\n",
       "</style>\n",
       "<table border=\"1\" class=\"dataframe\">\n",
       "  <thead>\n",
       "    <tr style=\"text-align: right;\">\n",
       "      <th></th>\n",
       "      <th>Make</th>\n",
       "      <th>Colour</th>\n",
       "      <th>Odometer (KM)</th>\n",
       "      <th>Doors</th>\n",
       "      <th>Price</th>\n",
       "    </tr>\n",
       "  </thead>\n",
       "  <tbody>\n",
       "    <tr>\n",
       "      <th>0</th>\n",
       "      <td>Toyota</td>\n",
       "      <td>White</td>\n",
       "      <td>150043</td>\n",
       "      <td>4</td>\n",
       "      <td>$4,000.00</td>\n",
       "    </tr>\n",
       "    <tr>\n",
       "      <th>1</th>\n",
       "      <td>Honda</td>\n",
       "      <td>Red</td>\n",
       "      <td>87899</td>\n",
       "      <td>4</td>\n",
       "      <td>$5,000.00</td>\n",
       "    </tr>\n",
       "    <tr>\n",
       "      <th>2</th>\n",
       "      <td>Toyota</td>\n",
       "      <td>Blue</td>\n",
       "      <td>32549</td>\n",
       "      <td>3</td>\n",
       "      <td>$7,000.00</td>\n",
       "    </tr>\n",
       "    <tr>\n",
       "      <th>3</th>\n",
       "      <td>BMW</td>\n",
       "      <td>Black</td>\n",
       "      <td>11179</td>\n",
       "      <td>5</td>\n",
       "      <td>$22,000.00</td>\n",
       "    </tr>\n",
       "    <tr>\n",
       "      <th>4</th>\n",
       "      <td>Nissan</td>\n",
       "      <td>White</td>\n",
       "      <td>213095</td>\n",
       "      <td>4</td>\n",
       "      <td>$3,500.00</td>\n",
       "    </tr>\n",
       "    <tr>\n",
       "      <th>5</th>\n",
       "      <td>Toyota</td>\n",
       "      <td>Green</td>\n",
       "      <td>99213</td>\n",
       "      <td>4</td>\n",
       "      <td>$4,500.00</td>\n",
       "    </tr>\n",
       "    <tr>\n",
       "      <th>6</th>\n",
       "      <td>Honda</td>\n",
       "      <td>Blue</td>\n",
       "      <td>45698</td>\n",
       "      <td>4</td>\n",
       "      <td>$7,500.00</td>\n",
       "    </tr>\n",
       "  </tbody>\n",
       "</table>\n",
       "</div>"
      ],
      "text/plain": [
       "     Make Colour  Odometer (KM)  Doors       Price\n",
       "0  Toyota  White         150043      4   $4,000.00\n",
       "1   Honda    Red          87899      4   $5,000.00\n",
       "2  Toyota   Blue          32549      3   $7,000.00\n",
       "3     BMW  Black          11179      5  $22,000.00\n",
       "4  Nissan  White         213095      4   $3,500.00\n",
       "5  Toyota  Green          99213      4   $4,500.00\n",
       "6   Honda   Blue          45698      4   $7,500.00"
      ]
     },
     "execution_count": 104,
     "metadata": {},
     "output_type": "execute_result"
    }
   ],
   "source": [
    "# Show the first 7 rows of the car sales DataFrame\n",
    "car_sales.head(7)"
   ]
  },
  {
   "cell_type": "code",
   "execution_count": 105,
   "metadata": {},
   "outputs": [
    {
     "data": {
      "text/html": [
       "<div>\n",
       "<style scoped>\n",
       "    .dataframe tbody tr th:only-of-type {\n",
       "        vertical-align: middle;\n",
       "    }\n",
       "\n",
       "    .dataframe tbody tr th {\n",
       "        vertical-align: top;\n",
       "    }\n",
       "\n",
       "    .dataframe thead th {\n",
       "        text-align: right;\n",
       "    }\n",
       "</style>\n",
       "<table border=\"1\" class=\"dataframe\">\n",
       "  <thead>\n",
       "    <tr style=\"text-align: right;\">\n",
       "      <th></th>\n",
       "      <th>Make</th>\n",
       "      <th>Colour</th>\n",
       "      <th>Odometer (KM)</th>\n",
       "      <th>Doors</th>\n",
       "      <th>Price</th>\n",
       "    </tr>\n",
       "  </thead>\n",
       "  <tbody>\n",
       "    <tr>\n",
       "      <th>5</th>\n",
       "      <td>Toyota</td>\n",
       "      <td>Green</td>\n",
       "      <td>99213</td>\n",
       "      <td>4</td>\n",
       "      <td>$4,500.00</td>\n",
       "    </tr>\n",
       "    <tr>\n",
       "      <th>6</th>\n",
       "      <td>Honda</td>\n",
       "      <td>Blue</td>\n",
       "      <td>45698</td>\n",
       "      <td>4</td>\n",
       "      <td>$7,500.00</td>\n",
       "    </tr>\n",
       "    <tr>\n",
       "      <th>7</th>\n",
       "      <td>Honda</td>\n",
       "      <td>Blue</td>\n",
       "      <td>54738</td>\n",
       "      <td>4</td>\n",
       "      <td>$7,000.00</td>\n",
       "    </tr>\n",
       "    <tr>\n",
       "      <th>8</th>\n",
       "      <td>Toyota</td>\n",
       "      <td>White</td>\n",
       "      <td>60000</td>\n",
       "      <td>4</td>\n",
       "      <td>$6,250.00</td>\n",
       "    </tr>\n",
       "    <tr>\n",
       "      <th>9</th>\n",
       "      <td>Nissan</td>\n",
       "      <td>White</td>\n",
       "      <td>31600</td>\n",
       "      <td>4</td>\n",
       "      <td>$9,700.00</td>\n",
       "    </tr>\n",
       "  </tbody>\n",
       "</table>\n",
       "</div>"
      ],
      "text/plain": [
       "     Make Colour  Odometer (KM)  Doors      Price\n",
       "5  Toyota  Green          99213      4  $4,500.00\n",
       "6   Honda   Blue          45698      4  $7,500.00\n",
       "7   Honda   Blue          54738      4  $7,000.00\n",
       "8  Toyota  White          60000      4  $6,250.00\n",
       "9  Nissan  White          31600      4  $9,700.00"
      ]
     },
     "execution_count": 105,
     "metadata": {},
     "output_type": "execute_result"
    }
   ],
   "source": [
    "# Show the bottom 5 rows of the car sales DataFrame\n",
    "car_sales.tail(5)"
   ]
  },
  {
   "cell_type": "code",
   "execution_count": 106,
   "metadata": {},
   "outputs": [
    {
     "data": {
      "text/plain": [
       "Make                    BMW\n",
       "Colour                Black\n",
       "Odometer (KM)         11179\n",
       "Doors                     5\n",
       "Price            $22,000.00\n",
       "Name: 3, dtype: object"
      ]
     },
     "execution_count": 106,
     "metadata": {},
     "output_type": "execute_result"
    }
   ],
   "source": [
    "# Use .loc to select the row at index 3 of the car sales DataFrame\n",
    "car_sales.loc[3]"
   ]
  },
  {
   "cell_type": "code",
   "execution_count": 107,
   "metadata": {},
   "outputs": [
    {
     "data": {
      "text/plain": [
       "Make                    BMW\n",
       "Colour                Black\n",
       "Odometer (KM)         11179\n",
       "Doors                     5\n",
       "Price            $22,000.00\n",
       "Name: 3, dtype: object"
      ]
     },
     "execution_count": 107,
     "metadata": {},
     "output_type": "execute_result"
    }
   ],
   "source": [
    "# Use .iloc to select the row at position 3 of the car sales DataFrame\n",
    "car_sales.iloc[3]"
   ]
  },
  {
   "cell_type": "markdown",
   "metadata": {},
   "source": [
    "Notice how they're the same? Why do you think this is? \n",
    "\n",
    "Check the pandas documentation for [.loc](https://pandas.pydata.org/pandas-docs/stable/reference/api/pandas.DataFrame.loc.html) and [.iloc](https://pandas.pydata.org/pandas-docs/stable/reference/api/pandas.DataFrame.iloc.html). Think about a different situation each could be used for and try them out."
   ]
  },
  {
   "cell_type": "code",
   "execution_count": 108,
   "metadata": {},
   "outputs": [
    {
     "data": {
      "text/plain": [
       "0    150043\n",
       "1     87899\n",
       "2     32549\n",
       "3     11179\n",
       "4    213095\n",
       "5     99213\n",
       "6     45698\n",
       "7     54738\n",
       "8     60000\n",
       "9     31600\n",
       "Name: Odometer (KM), dtype: int64"
      ]
     },
     "execution_count": 108,
     "metadata": {},
     "output_type": "execute_result"
    }
   ],
   "source": [
    "# Select the \"Odometer (KM)\" column from the car sales DataFrame\n",
    "car_sales['Odometer (KM)']"
   ]
  },
  {
   "cell_type": "code",
   "execution_count": 109,
   "metadata": {},
   "outputs": [
    {
     "data": {
      "text/plain": [
       "78601.4"
      ]
     },
     "execution_count": 109,
     "metadata": {},
     "output_type": "execute_result"
    }
   ],
   "source": [
    "# Find the mean of the \"Odometer (KM)\" column in the car sales DataFrame\n",
    "car_sales['Odometer (KM)'].mean()"
   ]
  },
  {
   "cell_type": "code",
   "execution_count": 110,
   "metadata": {},
   "outputs": [
    {
     "data": {
      "text/html": [
       "<div>\n",
       "<style scoped>\n",
       "    .dataframe tbody tr th:only-of-type {\n",
       "        vertical-align: middle;\n",
       "    }\n",
       "\n",
       "    .dataframe tbody tr th {\n",
       "        vertical-align: top;\n",
       "    }\n",
       "\n",
       "    .dataframe thead th {\n",
       "        text-align: right;\n",
       "    }\n",
       "</style>\n",
       "<table border=\"1\" class=\"dataframe\">\n",
       "  <thead>\n",
       "    <tr style=\"text-align: right;\">\n",
       "      <th></th>\n",
       "      <th>Make</th>\n",
       "      <th>Colour</th>\n",
       "      <th>Odometer (KM)</th>\n",
       "      <th>Doors</th>\n",
       "      <th>Price</th>\n",
       "    </tr>\n",
       "  </thead>\n",
       "  <tbody>\n",
       "    <tr>\n",
       "      <th>0</th>\n",
       "      <td>Toyota</td>\n",
       "      <td>White</td>\n",
       "      <td>150043</td>\n",
       "      <td>4</td>\n",
       "      <td>$4,000.00</td>\n",
       "    </tr>\n",
       "    <tr>\n",
       "      <th>4</th>\n",
       "      <td>Nissan</td>\n",
       "      <td>White</td>\n",
       "      <td>213095</td>\n",
       "      <td>4</td>\n",
       "      <td>$3,500.00</td>\n",
       "    </tr>\n",
       "  </tbody>\n",
       "</table>\n",
       "</div>"
      ],
      "text/plain": [
       "     Make Colour  Odometer (KM)  Doors      Price\n",
       "0  Toyota  White         150043      4  $4,000.00\n",
       "4  Nissan  White         213095      4  $3,500.00"
      ]
     },
     "execution_count": 110,
     "metadata": {},
     "output_type": "execute_result"
    }
   ],
   "source": [
    "# Select the rows with over 100,000 kilometers on the Odometer\n",
    "car_sales[car_sales['Odometer (KM)'] > 100000]"
   ]
  },
  {
   "cell_type": "code",
   "execution_count": 111,
   "metadata": {},
   "outputs": [
    {
     "data": {
      "text/html": [
       "<div>\n",
       "<style scoped>\n",
       "    .dataframe tbody tr th:only-of-type {\n",
       "        vertical-align: middle;\n",
       "    }\n",
       "\n",
       "    .dataframe tbody tr th {\n",
       "        vertical-align: top;\n",
       "    }\n",
       "\n",
       "    .dataframe thead tr th {\n",
       "        text-align: left;\n",
       "    }\n",
       "\n",
       "    .dataframe thead tr:last-of-type th {\n",
       "        text-align: right;\n",
       "    }\n",
       "</style>\n",
       "<table border=\"1\" class=\"dataframe\">\n",
       "  <thead>\n",
       "    <tr>\n",
       "      <th></th>\n",
       "      <th colspan=\"3\" halign=\"left\">Odometer (KM)</th>\n",
       "    </tr>\n",
       "    <tr>\n",
       "      <th>Doors</th>\n",
       "      <th>3</th>\n",
       "      <th>4</th>\n",
       "      <th>5</th>\n",
       "    </tr>\n",
       "    <tr>\n",
       "      <th>Make</th>\n",
       "      <th></th>\n",
       "      <th></th>\n",
       "      <th></th>\n",
       "    </tr>\n",
       "  </thead>\n",
       "  <tbody>\n",
       "    <tr>\n",
       "      <th>BMW</th>\n",
       "      <td>NaN</td>\n",
       "      <td>NaN</td>\n",
       "      <td>11179.0</td>\n",
       "    </tr>\n",
       "    <tr>\n",
       "      <th>Honda</th>\n",
       "      <td>NaN</td>\n",
       "      <td>62778.333333</td>\n",
       "      <td>NaN</td>\n",
       "    </tr>\n",
       "    <tr>\n",
       "      <th>Nissan</th>\n",
       "      <td>NaN</td>\n",
       "      <td>122347.500000</td>\n",
       "      <td>NaN</td>\n",
       "    </tr>\n",
       "    <tr>\n",
       "      <th>Toyota</th>\n",
       "      <td>32549.0</td>\n",
       "      <td>103085.333333</td>\n",
       "      <td>NaN</td>\n",
       "    </tr>\n",
       "  </tbody>\n",
       "</table>\n",
       "</div>"
      ],
      "text/plain": [
       "       Odometer (KM)                        \n",
       "Doors              3              4        5\n",
       "Make                                        \n",
       "BMW              NaN            NaN  11179.0\n",
       "Honda            NaN   62778.333333      NaN\n",
       "Nissan           NaN  122347.500000      NaN\n",
       "Toyota       32549.0  103085.333333      NaN"
      ]
     },
     "execution_count": 111,
     "metadata": {},
     "output_type": "execute_result"
    }
   ],
   "source": [
    "# Create a crosstab of the Make and Doors columns\n",
    "car_sales.pivot_table(index='Make', columns='Doors')\n"
   ]
  },
  {
   "cell_type": "code",
   "execution_count": 112,
   "metadata": {},
   "outputs": [
    {
     "data": {
      "text/html": [
       "<div>\n",
       "<style scoped>\n",
       "    .dataframe tbody tr th:only-of-type {\n",
       "        vertical-align: middle;\n",
       "    }\n",
       "\n",
       "    .dataframe tbody tr th {\n",
       "        vertical-align: top;\n",
       "    }\n",
       "\n",
       "    .dataframe thead th {\n",
       "        text-align: right;\n",
       "    }\n",
       "</style>\n",
       "<table border=\"1\" class=\"dataframe\">\n",
       "  <thead>\n",
       "    <tr style=\"text-align: right;\">\n",
       "      <th></th>\n",
       "      <th>Odometer (KM)</th>\n",
       "      <th>Doors</th>\n",
       "    </tr>\n",
       "    <tr>\n",
       "      <th>Make</th>\n",
       "      <th></th>\n",
       "      <th></th>\n",
       "    </tr>\n",
       "  </thead>\n",
       "  <tbody>\n",
       "    <tr>\n",
       "      <th>BMW</th>\n",
       "      <td>11179.000000</td>\n",
       "      <td>5.00</td>\n",
       "    </tr>\n",
       "    <tr>\n",
       "      <th>Honda</th>\n",
       "      <td>62778.333333</td>\n",
       "      <td>4.00</td>\n",
       "    </tr>\n",
       "    <tr>\n",
       "      <th>Nissan</th>\n",
       "      <td>122347.500000</td>\n",
       "      <td>4.00</td>\n",
       "    </tr>\n",
       "    <tr>\n",
       "      <th>Toyota</th>\n",
       "      <td>85451.250000</td>\n",
       "      <td>3.75</td>\n",
       "    </tr>\n",
       "  </tbody>\n",
       "</table>\n",
       "</div>"
      ],
      "text/plain": [
       "        Odometer (KM)  Doors\n",
       "Make                        \n",
       "BMW      11179.000000   5.00\n",
       "Honda    62778.333333   4.00\n",
       "Nissan  122347.500000   4.00\n",
       "Toyota   85451.250000   3.75"
      ]
     },
     "execution_count": 112,
     "metadata": {},
     "output_type": "execute_result"
    }
   ],
   "source": [
    "# Group columns of the car sales DataFrame by the Make column and find the average\n",
    "car_sales.groupby('Make').mean()"
   ]
  },
  {
   "cell_type": "code",
   "execution_count": 113,
   "metadata": {},
   "outputs": [
    {
     "data": {
      "text/plain": [
       "<AxesSubplot:>"
      ]
     },
     "execution_count": 113,
     "metadata": {},
     "output_type": "execute_result"
    },
    {
     "data": {
      "image/png": "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",
      "text/plain": [
       "<Figure size 432x288 with 1 Axes>"
      ]
     },
     "metadata": {
      "needs_background": "light"
     },
     "output_type": "display_data"
    }
   ],
   "source": [
    "# Import Matplotlib and create a plot of the Odometer column\n",
    "# Don't forget to use %matplotlib inline\n",
    "import matplotlib.pyplot as plt\n",
    "car_sales['Odometer (KM)'].plot()\n"
   ]
  },
  {
   "cell_type": "code",
   "execution_count": 114,
   "metadata": {},
   "outputs": [
    {
     "data": {
      "text/plain": [
       "<AxesSubplot:>"
      ]
     },
     "execution_count": 114,
     "metadata": {},
     "output_type": "execute_result"
    },
    {
     "data": {
      "image/png": "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",
      "text/plain": [
       "<Figure size 432x288 with 1 Axes>"
      ]
     },
     "metadata": {
      "needs_background": "light"
     },
     "output_type": "display_data"
    }
   ],
   "source": [
    "# Create a histogram of the Odometer column using hist()\n",
    "car_sales['Odometer (KM)'].hist()"
   ]
  },
  {
   "cell_type": "code",
   "execution_count": 115,
   "metadata": {},
   "outputs": [
    {
     "ename": "TypeError",
     "evalue": "no numeric data to plot",
     "output_type": "error",
     "traceback": [
      "\u001b[1;31m---------------------------------------------------------------------------\u001b[0m",
      "\u001b[1;31mTypeError\u001b[0m                                 Traceback (most recent call last)",
      "\u001b[1;32m~\\AppData\\Local\\Temp/ipykernel_19528/2356497336.py\u001b[0m in \u001b[0;36m<module>\u001b[1;34m\u001b[0m\n\u001b[0;32m      1\u001b[0m \u001b[1;31m# Try to plot the Price column using plot()\u001b[0m\u001b[1;33m\u001b[0m\u001b[1;33m\u001b[0m\u001b[0m\n\u001b[1;32m----> 2\u001b[1;33m \u001b[0mcar_sales\u001b[0m\u001b[1;33m[\u001b[0m\u001b[1;34m'Price'\u001b[0m\u001b[1;33m]\u001b[0m\u001b[1;33m.\u001b[0m\u001b[0mplot\u001b[0m\u001b[1;33m(\u001b[0m\u001b[1;33m)\u001b[0m\u001b[1;33m\u001b[0m\u001b[1;33m\u001b[0m\u001b[0m\n\u001b[0m",
      "\u001b[1;32mc:\\Users\\radhika\\AppData\\Local\\Programs\\Python\\Python310\\lib\\site-packages\\pandas\\plotting\\_core.py\u001b[0m in \u001b[0;36m__call__\u001b[1;34m(self, *args, **kwargs)\u001b[0m\n\u001b[0;32m    970\u001b[0m                     \u001b[0mdata\u001b[0m\u001b[1;33m.\u001b[0m\u001b[0mcolumns\u001b[0m \u001b[1;33m=\u001b[0m \u001b[0mlabel_name\u001b[0m\u001b[1;33m\u001b[0m\u001b[1;33m\u001b[0m\u001b[0m\n\u001b[0;32m    971\u001b[0m \u001b[1;33m\u001b[0m\u001b[0m\n\u001b[1;32m--> 972\u001b[1;33m         \u001b[1;32mreturn\u001b[0m \u001b[0mplot_backend\u001b[0m\u001b[1;33m.\u001b[0m\u001b[0mplot\u001b[0m\u001b[1;33m(\u001b[0m\u001b[0mdata\u001b[0m\u001b[1;33m,\u001b[0m \u001b[0mkind\u001b[0m\u001b[1;33m=\u001b[0m\u001b[0mkind\u001b[0m\u001b[1;33m,\u001b[0m \u001b[1;33m**\u001b[0m\u001b[0mkwargs\u001b[0m\u001b[1;33m)\u001b[0m\u001b[1;33m\u001b[0m\u001b[1;33m\u001b[0m\u001b[0m\n\u001b[0m\u001b[0;32m    973\u001b[0m \u001b[1;33m\u001b[0m\u001b[0m\n\u001b[0;32m    974\u001b[0m     \u001b[0m__call__\u001b[0m\u001b[1;33m.\u001b[0m\u001b[0m__doc__\u001b[0m \u001b[1;33m=\u001b[0m \u001b[0m__doc__\u001b[0m\u001b[1;33m\u001b[0m\u001b[1;33m\u001b[0m\u001b[0m\n",
      "\u001b[1;32mc:\\Users\\radhika\\AppData\\Local\\Programs\\Python\\Python310\\lib\\site-packages\\pandas\\plotting\\_matplotlib\\__init__.py\u001b[0m in \u001b[0;36mplot\u001b[1;34m(data, kind, **kwargs)\u001b[0m\n\u001b[0;32m     69\u001b[0m             \u001b[0mkwargs\u001b[0m\u001b[1;33m[\u001b[0m\u001b[1;34m\"ax\"\u001b[0m\u001b[1;33m]\u001b[0m \u001b[1;33m=\u001b[0m \u001b[0mgetattr\u001b[0m\u001b[1;33m(\u001b[0m\u001b[0max\u001b[0m\u001b[1;33m,\u001b[0m \u001b[1;34m\"left_ax\"\u001b[0m\u001b[1;33m,\u001b[0m \u001b[0max\u001b[0m\u001b[1;33m)\u001b[0m\u001b[1;33m\u001b[0m\u001b[1;33m\u001b[0m\u001b[0m\n\u001b[0;32m     70\u001b[0m     \u001b[0mplot_obj\u001b[0m \u001b[1;33m=\u001b[0m \u001b[0mPLOT_CLASSES\u001b[0m\u001b[1;33m[\u001b[0m\u001b[0mkind\u001b[0m\u001b[1;33m]\u001b[0m\u001b[1;33m(\u001b[0m\u001b[0mdata\u001b[0m\u001b[1;33m,\u001b[0m \u001b[1;33m**\u001b[0m\u001b[0mkwargs\u001b[0m\u001b[1;33m)\u001b[0m\u001b[1;33m\u001b[0m\u001b[1;33m\u001b[0m\u001b[0m\n\u001b[1;32m---> 71\u001b[1;33m     \u001b[0mplot_obj\u001b[0m\u001b[1;33m.\u001b[0m\u001b[0mgenerate\u001b[0m\u001b[1;33m(\u001b[0m\u001b[1;33m)\u001b[0m\u001b[1;33m\u001b[0m\u001b[1;33m\u001b[0m\u001b[0m\n\u001b[0m\u001b[0;32m     72\u001b[0m     \u001b[0mplot_obj\u001b[0m\u001b[1;33m.\u001b[0m\u001b[0mdraw\u001b[0m\u001b[1;33m(\u001b[0m\u001b[1;33m)\u001b[0m\u001b[1;33m\u001b[0m\u001b[1;33m\u001b[0m\u001b[0m\n\u001b[0;32m     73\u001b[0m     \u001b[1;32mreturn\u001b[0m \u001b[0mplot_obj\u001b[0m\u001b[1;33m.\u001b[0m\u001b[0mresult\u001b[0m\u001b[1;33m\u001b[0m\u001b[1;33m\u001b[0m\u001b[0m\n",
      "\u001b[1;32mc:\\Users\\radhika\\AppData\\Local\\Programs\\Python\\Python310\\lib\\site-packages\\pandas\\plotting\\_matplotlib\\core.py\u001b[0m in \u001b[0;36mgenerate\u001b[1;34m(self)\u001b[0m\n\u001b[0;32m    325\u001b[0m     \u001b[1;32mdef\u001b[0m \u001b[0mgenerate\u001b[0m\u001b[1;33m(\u001b[0m\u001b[0mself\u001b[0m\u001b[1;33m)\u001b[0m\u001b[1;33m:\u001b[0m\u001b[1;33m\u001b[0m\u001b[1;33m\u001b[0m\u001b[0m\n\u001b[0;32m    326\u001b[0m         \u001b[0mself\u001b[0m\u001b[1;33m.\u001b[0m\u001b[0m_args_adjust\u001b[0m\u001b[1;33m(\u001b[0m\u001b[1;33m)\u001b[0m\u001b[1;33m\u001b[0m\u001b[1;33m\u001b[0m\u001b[0m\n\u001b[1;32m--> 327\u001b[1;33m         \u001b[0mself\u001b[0m\u001b[1;33m.\u001b[0m\u001b[0m_compute_plot_data\u001b[0m\u001b[1;33m(\u001b[0m\u001b[1;33m)\u001b[0m\u001b[1;33m\u001b[0m\u001b[1;33m\u001b[0m\u001b[0m\n\u001b[0m\u001b[0;32m    328\u001b[0m         \u001b[0mself\u001b[0m\u001b[1;33m.\u001b[0m\u001b[0m_setup_subplots\u001b[0m\u001b[1;33m(\u001b[0m\u001b[1;33m)\u001b[0m\u001b[1;33m\u001b[0m\u001b[1;33m\u001b[0m\u001b[0m\n\u001b[0;32m    329\u001b[0m         \u001b[0mself\u001b[0m\u001b[1;33m.\u001b[0m\u001b[0m_make_plot\u001b[0m\u001b[1;33m(\u001b[0m\u001b[1;33m)\u001b[0m\u001b[1;33m\u001b[0m\u001b[1;33m\u001b[0m\u001b[0m\n",
      "\u001b[1;32mc:\\Users\\radhika\\AppData\\Local\\Programs\\Python\\Python310\\lib\\site-packages\\pandas\\plotting\\_matplotlib\\core.py\u001b[0m in \u001b[0;36m_compute_plot_data\u001b[1;34m(self)\u001b[0m\n\u001b[0;32m    504\u001b[0m         \u001b[1;31m# no non-numeric frames or series allowed\u001b[0m\u001b[1;33m\u001b[0m\u001b[1;33m\u001b[0m\u001b[0m\n\u001b[0;32m    505\u001b[0m         \u001b[1;32mif\u001b[0m \u001b[0mis_empty\u001b[0m\u001b[1;33m:\u001b[0m\u001b[1;33m\u001b[0m\u001b[1;33m\u001b[0m\u001b[0m\n\u001b[1;32m--> 506\u001b[1;33m             \u001b[1;32mraise\u001b[0m \u001b[0mTypeError\u001b[0m\u001b[1;33m(\u001b[0m\u001b[1;34m\"no numeric data to plot\"\u001b[0m\u001b[1;33m)\u001b[0m\u001b[1;33m\u001b[0m\u001b[1;33m\u001b[0m\u001b[0m\n\u001b[0m\u001b[0;32m    507\u001b[0m \u001b[1;33m\u001b[0m\u001b[0m\n\u001b[0;32m    508\u001b[0m         \u001b[0mself\u001b[0m\u001b[1;33m.\u001b[0m\u001b[0mdata\u001b[0m \u001b[1;33m=\u001b[0m \u001b[0mnumeric_data\u001b[0m\u001b[1;33m.\u001b[0m\u001b[0mapply\u001b[0m\u001b[1;33m(\u001b[0m\u001b[0mself\u001b[0m\u001b[1;33m.\u001b[0m\u001b[0m_convert_to_ndarray\u001b[0m\u001b[1;33m)\u001b[0m\u001b[1;33m\u001b[0m\u001b[1;33m\u001b[0m\u001b[0m\n",
      "\u001b[1;31mTypeError\u001b[0m: no numeric data to plot"
     ]
    }
   ],
   "source": [
    "# Try to plot the Price column using plot()\n",
    "car_sales['Price'].plot()"
   ]
  },
  {
   "cell_type": "markdown",
   "metadata": {},
   "source": [
    "Why didn't it work? Can you think of a solution?\n",
    "\n",
    "You might want to search for \"how to convert a pandas string column to numbers\".\n",
    "\n",
    "And if you're still stuck, check out this [Stack Overflow question and answer on turning a price column into integers](https://stackoverflow.com/questions/44469313/price-column-object-to-int-in-pandas).\n",
    "\n",
    "See how you can provide the example code there to the problem here."
   ]
  },
  {
   "cell_type": "code",
   "execution_count": 126,
   "metadata": {},
   "outputs": [],
   "source": [
    "# Remove the punctuation from price column\n",
    "car_sales['Price'] = car_sales['Price'].str.replace(',', '')"
   ]
  },
  {
   "cell_type": "code",
   "execution_count": 119,
   "metadata": {},
   "outputs": [
    {
     "data": {
      "text/plain": [
       "0     4,000.00\n",
       "1     5,000.00\n",
       "2     7,000.00\n",
       "3    22,000.00\n",
       "4     3,500.00\n",
       "5     4,500.00\n",
       "6     7,500.00\n",
       "7     7,000.00\n",
       "8     6,250.00\n",
       "9     9,700.00\n",
       "Name: Price, dtype: object"
      ]
     },
     "execution_count": 119,
     "metadata": {},
     "output_type": "execute_result"
    }
   ],
   "source": [
    "# Check the changes to the price column\n",
    "car_sales['Price']"
   ]
  },
  {
   "cell_type": "code",
   "execution_count": 123,
   "metadata": {},
   "outputs": [],
   "source": [
    "# Remove the two extra zeros at the end of the price column\n",
    "car_sales['Price'] = car_sales['Price'].str.strip('.')"
   ]
  },
  {
   "cell_type": "code",
   "execution_count": 124,
   "metadata": {},
   "outputs": [
    {
     "data": {
      "text/plain": [
       "0     4,000\n",
       "1     5,000\n",
       "2     7,000\n",
       "3    22,000\n",
       "4     3,500\n",
       "5     4,500\n",
       "6     7,500\n",
       "7     7,000\n",
       "8     6,250\n",
       "9     9,700\n",
       "Name: Price, dtype: object"
      ]
     },
     "execution_count": 124,
     "metadata": {},
     "output_type": "execute_result"
    }
   ],
   "source": [
    "# Check the changes to the Price column\n",
    "car_sales['Price']"
   ]
  },
  {
   "cell_type": "code",
   "execution_count": 127,
   "metadata": {},
   "outputs": [],
   "source": [
    "# Change the datatype of the Price column to integers\n",
    "car_sales['Price'] = car_sales['Price'].astype(int)"
   ]
  },
  {
   "cell_type": "code",
   "execution_count": 128,
   "metadata": {},
   "outputs": [],
   "source": [
    "# Lower the strings of the Make column\n",
    "car_sales['Make'] = car_sales['Make'].str.lower()"
   ]
  },
  {
   "cell_type": "markdown",
   "metadata": {},
   "source": [
    "If you check the car sales DataFrame, you'll notice the Make column hasn't been lowered.\n",
    "\n",
    "How could you make these changes permanent?\n",
    "\n",
    "Try it out."
   ]
  },
  {
   "cell_type": "code",
   "execution_count": null,
   "metadata": {},
   "outputs": [],
   "source": [
    "# Make lowering the case of the Make column permanent\n"
   ]
  },
  {
   "cell_type": "code",
   "execution_count": 129,
   "metadata": {},
   "outputs": [
    {
     "data": {
      "text/html": [
       "<div>\n",
       "<style scoped>\n",
       "    .dataframe tbody tr th:only-of-type {\n",
       "        vertical-align: middle;\n",
       "    }\n",
       "\n",
       "    .dataframe tbody tr th {\n",
       "        vertical-align: top;\n",
       "    }\n",
       "\n",
       "    .dataframe thead th {\n",
       "        text-align: right;\n",
       "    }\n",
       "</style>\n",
       "<table border=\"1\" class=\"dataframe\">\n",
       "  <thead>\n",
       "    <tr style=\"text-align: right;\">\n",
       "      <th></th>\n",
       "      <th>Make</th>\n",
       "      <th>Colour</th>\n",
       "      <th>Odometer (KM)</th>\n",
       "      <th>Doors</th>\n",
       "      <th>Price</th>\n",
       "    </tr>\n",
       "  </thead>\n",
       "  <tbody>\n",
       "    <tr>\n",
       "      <th>0</th>\n",
       "      <td>toyota</td>\n",
       "      <td>White</td>\n",
       "      <td>150043</td>\n",
       "      <td>4</td>\n",
       "      <td>4000</td>\n",
       "    </tr>\n",
       "    <tr>\n",
       "      <th>1</th>\n",
       "      <td>honda</td>\n",
       "      <td>Red</td>\n",
       "      <td>87899</td>\n",
       "      <td>4</td>\n",
       "      <td>5000</td>\n",
       "    </tr>\n",
       "    <tr>\n",
       "      <th>2</th>\n",
       "      <td>toyota</td>\n",
       "      <td>Blue</td>\n",
       "      <td>32549</td>\n",
       "      <td>3</td>\n",
       "      <td>7000</td>\n",
       "    </tr>\n",
       "    <tr>\n",
       "      <th>3</th>\n",
       "      <td>bmw</td>\n",
       "      <td>Black</td>\n",
       "      <td>11179</td>\n",
       "      <td>5</td>\n",
       "      <td>22000</td>\n",
       "    </tr>\n",
       "    <tr>\n",
       "      <th>4</th>\n",
       "      <td>nissan</td>\n",
       "      <td>White</td>\n",
       "      <td>213095</td>\n",
       "      <td>4</td>\n",
       "      <td>3500</td>\n",
       "    </tr>\n",
       "    <tr>\n",
       "      <th>5</th>\n",
       "      <td>toyota</td>\n",
       "      <td>Green</td>\n",
       "      <td>99213</td>\n",
       "      <td>4</td>\n",
       "      <td>4500</td>\n",
       "    </tr>\n",
       "    <tr>\n",
       "      <th>6</th>\n",
       "      <td>honda</td>\n",
       "      <td>Blue</td>\n",
       "      <td>45698</td>\n",
       "      <td>4</td>\n",
       "      <td>7500</td>\n",
       "    </tr>\n",
       "    <tr>\n",
       "      <th>7</th>\n",
       "      <td>honda</td>\n",
       "      <td>Blue</td>\n",
       "      <td>54738</td>\n",
       "      <td>4</td>\n",
       "      <td>7000</td>\n",
       "    </tr>\n",
       "    <tr>\n",
       "      <th>8</th>\n",
       "      <td>toyota</td>\n",
       "      <td>White</td>\n",
       "      <td>60000</td>\n",
       "      <td>4</td>\n",
       "      <td>6250</td>\n",
       "    </tr>\n",
       "    <tr>\n",
       "      <th>9</th>\n",
       "      <td>nissan</td>\n",
       "      <td>White</td>\n",
       "      <td>31600</td>\n",
       "      <td>4</td>\n",
       "      <td>9700</td>\n",
       "    </tr>\n",
       "  </tbody>\n",
       "</table>\n",
       "</div>"
      ],
      "text/plain": [
       "     Make Colour  Odometer (KM)  Doors  Price\n",
       "0  toyota  White         150043      4   4000\n",
       "1   honda    Red          87899      4   5000\n",
       "2  toyota   Blue          32549      3   7000\n",
       "3     bmw  Black          11179      5  22000\n",
       "4  nissan  White         213095      4   3500\n",
       "5  toyota  Green          99213      4   4500\n",
       "6   honda   Blue          45698      4   7500\n",
       "7   honda   Blue          54738      4   7000\n",
       "8  toyota  White          60000      4   6250\n",
       "9  nissan  White          31600      4   9700"
      ]
     },
     "execution_count": 129,
     "metadata": {},
     "output_type": "execute_result"
    }
   ],
   "source": [
    "# Check the car sales DataFrame\n",
    "car_sales"
   ]
  },
  {
   "cell_type": "markdown",
   "metadata": {},
   "source": [
    "Notice how the Make column stays lowered after reassigning.\n",
    "\n",
    "Now let's deal with missing data."
   ]
  },
  {
   "cell_type": "code",
   "execution_count": 130,
   "metadata": {},
   "outputs": [
    {
     "data": {
      "text/html": [
       "<div>\n",
       "<style scoped>\n",
       "    .dataframe tbody tr th:only-of-type {\n",
       "        vertical-align: middle;\n",
       "    }\n",
       "\n",
       "    .dataframe tbody tr th {\n",
       "        vertical-align: top;\n",
       "    }\n",
       "\n",
       "    .dataframe thead th {\n",
       "        text-align: right;\n",
       "    }\n",
       "</style>\n",
       "<table border=\"1\" class=\"dataframe\">\n",
       "  <thead>\n",
       "    <tr style=\"text-align: right;\">\n",
       "      <th></th>\n",
       "      <th>Make</th>\n",
       "      <th>Colour</th>\n",
       "      <th>Odometer</th>\n",
       "      <th>Doors</th>\n",
       "      <th>Price</th>\n",
       "    </tr>\n",
       "  </thead>\n",
       "  <tbody>\n",
       "    <tr>\n",
       "      <th>0</th>\n",
       "      <td>Toyota</td>\n",
       "      <td>White</td>\n",
       "      <td>150043.0</td>\n",
       "      <td>4.0</td>\n",
       "      <td>$4,000</td>\n",
       "    </tr>\n",
       "    <tr>\n",
       "      <th>1</th>\n",
       "      <td>Honda</td>\n",
       "      <td>Red</td>\n",
       "      <td>87899.0</td>\n",
       "      <td>4.0</td>\n",
       "      <td>$5,000</td>\n",
       "    </tr>\n",
       "    <tr>\n",
       "      <th>2</th>\n",
       "      <td>Toyota</td>\n",
       "      <td>Blue</td>\n",
       "      <td>NaN</td>\n",
       "      <td>3.0</td>\n",
       "      <td>$7,000</td>\n",
       "    </tr>\n",
       "    <tr>\n",
       "      <th>3</th>\n",
       "      <td>BMW</td>\n",
       "      <td>Black</td>\n",
       "      <td>11179.0</td>\n",
       "      <td>5.0</td>\n",
       "      <td>$22,000</td>\n",
       "    </tr>\n",
       "    <tr>\n",
       "      <th>4</th>\n",
       "      <td>Nissan</td>\n",
       "      <td>White</td>\n",
       "      <td>213095.0</td>\n",
       "      <td>4.0</td>\n",
       "      <td>$3,500</td>\n",
       "    </tr>\n",
       "    <tr>\n",
       "      <th>5</th>\n",
       "      <td>Toyota</td>\n",
       "      <td>Green</td>\n",
       "      <td>NaN</td>\n",
       "      <td>4.0</td>\n",
       "      <td>$4,500</td>\n",
       "    </tr>\n",
       "    <tr>\n",
       "      <th>6</th>\n",
       "      <td>Honda</td>\n",
       "      <td>NaN</td>\n",
       "      <td>NaN</td>\n",
       "      <td>4.0</td>\n",
       "      <td>$7,500</td>\n",
       "    </tr>\n",
       "    <tr>\n",
       "      <th>7</th>\n",
       "      <td>Honda</td>\n",
       "      <td>Blue</td>\n",
       "      <td>NaN</td>\n",
       "      <td>4.0</td>\n",
       "      <td>NaN</td>\n",
       "    </tr>\n",
       "    <tr>\n",
       "      <th>8</th>\n",
       "      <td>Toyota</td>\n",
       "      <td>White</td>\n",
       "      <td>60000.0</td>\n",
       "      <td>NaN</td>\n",
       "      <td>NaN</td>\n",
       "    </tr>\n",
       "    <tr>\n",
       "      <th>9</th>\n",
       "      <td>NaN</td>\n",
       "      <td>White</td>\n",
       "      <td>31600.0</td>\n",
       "      <td>4.0</td>\n",
       "      <td>$9,700</td>\n",
       "    </tr>\n",
       "  </tbody>\n",
       "</table>\n",
       "</div>"
      ],
      "text/plain": [
       "     Make Colour  Odometer  Doors    Price\n",
       "0  Toyota  White  150043.0    4.0   $4,000\n",
       "1   Honda    Red   87899.0    4.0   $5,000\n",
       "2  Toyota   Blue       NaN    3.0   $7,000\n",
       "3     BMW  Black   11179.0    5.0  $22,000\n",
       "4  Nissan  White  213095.0    4.0   $3,500\n",
       "5  Toyota  Green       NaN    4.0   $4,500\n",
       "6   Honda    NaN       NaN    4.0   $7,500\n",
       "7   Honda   Blue       NaN    4.0      NaN\n",
       "8  Toyota  White   60000.0    NaN      NaN\n",
       "9     NaN  White   31600.0    4.0   $9,700"
      ]
     },
     "execution_count": 130,
     "metadata": {},
     "output_type": "execute_result"
    }
   ],
   "source": [
    "# Import the car sales DataFrame with missing data (\"../data/car-sales-missing-data.csv\")\n",
    "car_sales_missing = pd.read_csv('https://raw.githubusercontent.com/mrdbourke/zero-to-mastery-ml/master/data/car-sales-missing-data.csv')\n",
    "\n",
    "# Check out the new DataFrame\n",
    "car_sales_missing"
   ]
  },
  {
   "cell_type": "markdown",
   "metadata": {},
   "source": [
    "Notice the missing values are represented as `NaN` in pandas DataFrames.\n",
    "\n",
    "Let's try fill them."
   ]
  },
  {
   "cell_type": "code",
   "execution_count": 133,
   "metadata": {},
   "outputs": [],
   "source": [
    "# Fill the Odometer column missing values with the mean of the column inplace\n",
    "car_sales_missing['Odometer'].fillna(car_sales_missing['Odometer'].mean(), inplace=True)"
   ]
  },
  {
   "cell_type": "code",
   "execution_count": 134,
   "metadata": {},
   "outputs": [
    {
     "data": {
      "text/html": [
       "<div>\n",
       "<style scoped>\n",
       "    .dataframe tbody tr th:only-of-type {\n",
       "        vertical-align: middle;\n",
       "    }\n",
       "\n",
       "    .dataframe tbody tr th {\n",
       "        vertical-align: top;\n",
       "    }\n",
       "\n",
       "    .dataframe thead th {\n",
       "        text-align: right;\n",
       "    }\n",
       "</style>\n",
       "<table border=\"1\" class=\"dataframe\">\n",
       "  <thead>\n",
       "    <tr style=\"text-align: right;\">\n",
       "      <th></th>\n",
       "      <th>Make</th>\n",
       "      <th>Colour</th>\n",
       "      <th>Odometer</th>\n",
       "      <th>Doors</th>\n",
       "      <th>Price</th>\n",
       "    </tr>\n",
       "  </thead>\n",
       "  <tbody>\n",
       "    <tr>\n",
       "      <th>0</th>\n",
       "      <td>Toyota</td>\n",
       "      <td>White</td>\n",
       "      <td>150043.000000</td>\n",
       "      <td>4.0</td>\n",
       "      <td>$4,000</td>\n",
       "    </tr>\n",
       "    <tr>\n",
       "      <th>1</th>\n",
       "      <td>Honda</td>\n",
       "      <td>Red</td>\n",
       "      <td>87899.000000</td>\n",
       "      <td>4.0</td>\n",
       "      <td>$5,000</td>\n",
       "    </tr>\n",
       "    <tr>\n",
       "      <th>2</th>\n",
       "      <td>Toyota</td>\n",
       "      <td>Blue</td>\n",
       "      <td>92302.666667</td>\n",
       "      <td>3.0</td>\n",
       "      <td>$7,000</td>\n",
       "    </tr>\n",
       "    <tr>\n",
       "      <th>3</th>\n",
       "      <td>BMW</td>\n",
       "      <td>Black</td>\n",
       "      <td>11179.000000</td>\n",
       "      <td>5.0</td>\n",
       "      <td>$22,000</td>\n",
       "    </tr>\n",
       "    <tr>\n",
       "      <th>4</th>\n",
       "      <td>Nissan</td>\n",
       "      <td>White</td>\n",
       "      <td>213095.000000</td>\n",
       "      <td>4.0</td>\n",
       "      <td>$3,500</td>\n",
       "    </tr>\n",
       "    <tr>\n",
       "      <th>5</th>\n",
       "      <td>Toyota</td>\n",
       "      <td>Green</td>\n",
       "      <td>92302.666667</td>\n",
       "      <td>4.0</td>\n",
       "      <td>$4,500</td>\n",
       "    </tr>\n",
       "    <tr>\n",
       "      <th>6</th>\n",
       "      <td>Honda</td>\n",
       "      <td>NaN</td>\n",
       "      <td>92302.666667</td>\n",
       "      <td>4.0</td>\n",
       "      <td>$7,500</td>\n",
       "    </tr>\n",
       "    <tr>\n",
       "      <th>7</th>\n",
       "      <td>Honda</td>\n",
       "      <td>Blue</td>\n",
       "      <td>92302.666667</td>\n",
       "      <td>4.0</td>\n",
       "      <td>NaN</td>\n",
       "    </tr>\n",
       "    <tr>\n",
       "      <th>8</th>\n",
       "      <td>Toyota</td>\n",
       "      <td>White</td>\n",
       "      <td>60000.000000</td>\n",
       "      <td>NaN</td>\n",
       "      <td>NaN</td>\n",
       "    </tr>\n",
       "    <tr>\n",
       "      <th>9</th>\n",
       "      <td>NaN</td>\n",
       "      <td>White</td>\n",
       "      <td>31600.000000</td>\n",
       "      <td>4.0</td>\n",
       "      <td>$9,700</td>\n",
       "    </tr>\n",
       "  </tbody>\n",
       "</table>\n",
       "</div>"
      ],
      "text/plain": [
       "     Make Colour       Odometer  Doors    Price\n",
       "0  Toyota  White  150043.000000    4.0   $4,000\n",
       "1   Honda    Red   87899.000000    4.0   $5,000\n",
       "2  Toyota   Blue   92302.666667    3.0   $7,000\n",
       "3     BMW  Black   11179.000000    5.0  $22,000\n",
       "4  Nissan  White  213095.000000    4.0   $3,500\n",
       "5  Toyota  Green   92302.666667    4.0   $4,500\n",
       "6   Honda    NaN   92302.666667    4.0   $7,500\n",
       "7   Honda   Blue   92302.666667    4.0      NaN\n",
       "8  Toyota  White   60000.000000    NaN      NaN\n",
       "9     NaN  White   31600.000000    4.0   $9,700"
      ]
     },
     "execution_count": 134,
     "metadata": {},
     "output_type": "execute_result"
    }
   ],
   "source": [
    "# View the car sales missing DataFrame and verify the changes\n",
    "car_sales_missing"
   ]
  },
  {
   "cell_type": "code",
   "execution_count": 135,
   "metadata": {},
   "outputs": [],
   "source": [
    "# Remove the rest of the missing data inplace\n",
    "car_sales_missing.dropna(inplace=True)"
   ]
  },
  {
   "cell_type": "code",
   "execution_count": 136,
   "metadata": {},
   "outputs": [
    {
     "data": {
      "text/html": [
       "<div>\n",
       "<style scoped>\n",
       "    .dataframe tbody tr th:only-of-type {\n",
       "        vertical-align: middle;\n",
       "    }\n",
       "\n",
       "    .dataframe tbody tr th {\n",
       "        vertical-align: top;\n",
       "    }\n",
       "\n",
       "    .dataframe thead th {\n",
       "        text-align: right;\n",
       "    }\n",
       "</style>\n",
       "<table border=\"1\" class=\"dataframe\">\n",
       "  <thead>\n",
       "    <tr style=\"text-align: right;\">\n",
       "      <th></th>\n",
       "      <th>Make</th>\n",
       "      <th>Colour</th>\n",
       "      <th>Odometer</th>\n",
       "      <th>Doors</th>\n",
       "      <th>Price</th>\n",
       "    </tr>\n",
       "  </thead>\n",
       "  <tbody>\n",
       "    <tr>\n",
       "      <th>0</th>\n",
       "      <td>Toyota</td>\n",
       "      <td>White</td>\n",
       "      <td>150043.000000</td>\n",
       "      <td>4.0</td>\n",
       "      <td>$4,000</td>\n",
       "    </tr>\n",
       "    <tr>\n",
       "      <th>1</th>\n",
       "      <td>Honda</td>\n",
       "      <td>Red</td>\n",
       "      <td>87899.000000</td>\n",
       "      <td>4.0</td>\n",
       "      <td>$5,000</td>\n",
       "    </tr>\n",
       "    <tr>\n",
       "      <th>2</th>\n",
       "      <td>Toyota</td>\n",
       "      <td>Blue</td>\n",
       "      <td>92302.666667</td>\n",
       "      <td>3.0</td>\n",
       "      <td>$7,000</td>\n",
       "    </tr>\n",
       "    <tr>\n",
       "      <th>3</th>\n",
       "      <td>BMW</td>\n",
       "      <td>Black</td>\n",
       "      <td>11179.000000</td>\n",
       "      <td>5.0</td>\n",
       "      <td>$22,000</td>\n",
       "    </tr>\n",
       "    <tr>\n",
       "      <th>4</th>\n",
       "      <td>Nissan</td>\n",
       "      <td>White</td>\n",
       "      <td>213095.000000</td>\n",
       "      <td>4.0</td>\n",
       "      <td>$3,500</td>\n",
       "    </tr>\n",
       "    <tr>\n",
       "      <th>5</th>\n",
       "      <td>Toyota</td>\n",
       "      <td>Green</td>\n",
       "      <td>92302.666667</td>\n",
       "      <td>4.0</td>\n",
       "      <td>$4,500</td>\n",
       "    </tr>\n",
       "  </tbody>\n",
       "</table>\n",
       "</div>"
      ],
      "text/plain": [
       "     Make Colour       Odometer  Doors    Price\n",
       "0  Toyota  White  150043.000000    4.0   $4,000\n",
       "1   Honda    Red   87899.000000    4.0   $5,000\n",
       "2  Toyota   Blue   92302.666667    3.0   $7,000\n",
       "3     BMW  Black   11179.000000    5.0  $22,000\n",
       "4  Nissan  White  213095.000000    4.0   $3,500\n",
       "5  Toyota  Green   92302.666667    4.0   $4,500"
      ]
     },
     "execution_count": 136,
     "metadata": {},
     "output_type": "execute_result"
    }
   ],
   "source": [
    "# Verify the missing values are removed by viewing the DataFrame\n",
    "car_sales_missing"
   ]
  },
  {
   "cell_type": "markdown",
   "metadata": {},
   "source": [
    "We'll now start to add columns to our DataFrame."
   ]
  },
  {
   "cell_type": "code",
   "execution_count": 137,
   "metadata": {},
   "outputs": [],
   "source": [
    "# Create a \"Seats\" column where every row has a value of 5\n",
    "car_sales_missing['Seats'] = 5\n"
   ]
  },
  {
   "cell_type": "code",
   "execution_count": 138,
   "metadata": {},
   "outputs": [],
   "source": [
    "# Create a column called \"Engine Size\" with random values between 1.3 and 4.5\n",
    "# Remember: If you're doing it from a Python list, the list has to be the same length\n",
    "# as the DataFrame\n",
    "Engine = pd.Series([1.3,2.5,3.2,4.5,5.6,6.7,7.8,8.9,9.0,10.1])\n",
    "car_sales['Engine Size'] = Engine"
   ]
  },
  {
   "cell_type": "code",
   "execution_count": 139,
   "metadata": {},
   "outputs": [
    {
     "data": {
      "text/html": [
       "<div>\n",
       "<style scoped>\n",
       "    .dataframe tbody tr th:only-of-type {\n",
       "        vertical-align: middle;\n",
       "    }\n",
       "\n",
       "    .dataframe tbody tr th {\n",
       "        vertical-align: top;\n",
       "    }\n",
       "\n",
       "    .dataframe thead th {\n",
       "        text-align: right;\n",
       "    }\n",
       "</style>\n",
       "<table border=\"1\" class=\"dataframe\">\n",
       "  <thead>\n",
       "    <tr style=\"text-align: right;\">\n",
       "      <th></th>\n",
       "      <th>Make</th>\n",
       "      <th>Colour</th>\n",
       "      <th>Odometer (KM)</th>\n",
       "      <th>Doors</th>\n",
       "      <th>Price</th>\n",
       "      <th>Engine Size</th>\n",
       "    </tr>\n",
       "  </thead>\n",
       "  <tbody>\n",
       "    <tr>\n",
       "      <th>0</th>\n",
       "      <td>toyota</td>\n",
       "      <td>White</td>\n",
       "      <td>150043</td>\n",
       "      <td>4</td>\n",
       "      <td>4000</td>\n",
       "      <td>1.3</td>\n",
       "    </tr>\n",
       "    <tr>\n",
       "      <th>1</th>\n",
       "      <td>honda</td>\n",
       "      <td>Red</td>\n",
       "      <td>87899</td>\n",
       "      <td>4</td>\n",
       "      <td>5000</td>\n",
       "      <td>2.5</td>\n",
       "    </tr>\n",
       "    <tr>\n",
       "      <th>2</th>\n",
       "      <td>toyota</td>\n",
       "      <td>Blue</td>\n",
       "      <td>32549</td>\n",
       "      <td>3</td>\n",
       "      <td>7000</td>\n",
       "      <td>3.2</td>\n",
       "    </tr>\n",
       "    <tr>\n",
       "      <th>3</th>\n",
       "      <td>bmw</td>\n",
       "      <td>Black</td>\n",
       "      <td>11179</td>\n",
       "      <td>5</td>\n",
       "      <td>22000</td>\n",
       "      <td>4.5</td>\n",
       "    </tr>\n",
       "    <tr>\n",
       "      <th>4</th>\n",
       "      <td>nissan</td>\n",
       "      <td>White</td>\n",
       "      <td>213095</td>\n",
       "      <td>4</td>\n",
       "      <td>3500</td>\n",
       "      <td>5.6</td>\n",
       "    </tr>\n",
       "    <tr>\n",
       "      <th>5</th>\n",
       "      <td>toyota</td>\n",
       "      <td>Green</td>\n",
       "      <td>99213</td>\n",
       "      <td>4</td>\n",
       "      <td>4500</td>\n",
       "      <td>6.7</td>\n",
       "    </tr>\n",
       "    <tr>\n",
       "      <th>6</th>\n",
       "      <td>honda</td>\n",
       "      <td>Blue</td>\n",
       "      <td>45698</td>\n",
       "      <td>4</td>\n",
       "      <td>7500</td>\n",
       "      <td>7.8</td>\n",
       "    </tr>\n",
       "    <tr>\n",
       "      <th>7</th>\n",
       "      <td>honda</td>\n",
       "      <td>Blue</td>\n",
       "      <td>54738</td>\n",
       "      <td>4</td>\n",
       "      <td>7000</td>\n",
       "      <td>8.9</td>\n",
       "    </tr>\n",
       "    <tr>\n",
       "      <th>8</th>\n",
       "      <td>toyota</td>\n",
       "      <td>White</td>\n",
       "      <td>60000</td>\n",
       "      <td>4</td>\n",
       "      <td>6250</td>\n",
       "      <td>9.0</td>\n",
       "    </tr>\n",
       "    <tr>\n",
       "      <th>9</th>\n",
       "      <td>nissan</td>\n",
       "      <td>White</td>\n",
       "      <td>31600</td>\n",
       "      <td>4</td>\n",
       "      <td>9700</td>\n",
       "      <td>10.1</td>\n",
       "    </tr>\n",
       "  </tbody>\n",
       "</table>\n",
       "</div>"
      ],
      "text/plain": [
       "     Make Colour  Odometer (KM)  Doors  Price  Engine Size\n",
       "0  toyota  White         150043      4   4000          1.3\n",
       "1   honda    Red          87899      4   5000          2.5\n",
       "2  toyota   Blue          32549      3   7000          3.2\n",
       "3     bmw  Black          11179      5  22000          4.5\n",
       "4  nissan  White         213095      4   3500          5.6\n",
       "5  toyota  Green          99213      4   4500          6.7\n",
       "6   honda   Blue          45698      4   7500          7.8\n",
       "7   honda   Blue          54738      4   7000          8.9\n",
       "8  toyota  White          60000      4   6250          9.0\n",
       "9  nissan  White          31600      4   9700         10.1"
      ]
     },
     "execution_count": 139,
     "metadata": {},
     "output_type": "execute_result"
    }
   ],
   "source": [
    "# Create a column which represents the price of a car per kilometer\n",
    "# Then view the DataFrame\n",
    "car_sales"
   ]
  },
  {
   "cell_type": "code",
   "execution_count": 140,
   "metadata": {},
   "outputs": [
    {
     "data": {
      "text/plain": [
       "<bound method Series.drop of 0     1.3\n",
       "1     2.5\n",
       "2     3.2\n",
       "3     4.5\n",
       "4     5.6\n",
       "5     6.7\n",
       "6     7.8\n",
       "7     8.9\n",
       "8     9.0\n",
       "9    10.1\n",
       "Name: Engine Size, dtype: float64>"
      ]
     },
     "execution_count": 140,
     "metadata": {},
     "output_type": "execute_result"
    }
   ],
   "source": [
    "# Remove the last column you added using .drop()\n",
    "car_sales['Engine Size'].drop"
   ]
  },
  {
   "cell_type": "code",
   "execution_count": 143,
   "metadata": {},
   "outputs": [],
   "source": [
    "# Shuffle the DataFrame using sample() with the frac parameter set to 1\n",
    "# Save the the shuffled DataFrame to a new variable\n",
    "car_sales = car_sales.sample(frac=1)"
   ]
  },
  {
   "cell_type": "markdown",
   "metadata": {},
   "source": [
    "Notice how the index numbers get moved around. The [`sample()`](https://pandas.pydata.org/pandas-docs/stable/reference/api/pandas.DataFrame.sample.html) function is a great way to get random samples from your DataFrame. It's also another great way to shuffle the rows by setting `frac=1`."
   ]
  },
  {
   "cell_type": "code",
   "execution_count": 144,
   "metadata": {},
   "outputs": [
    {
     "data": {
      "text/html": [
       "<div>\n",
       "<style scoped>\n",
       "    .dataframe tbody tr th:only-of-type {\n",
       "        vertical-align: middle;\n",
       "    }\n",
       "\n",
       "    .dataframe tbody tr th {\n",
       "        vertical-align: top;\n",
       "    }\n",
       "\n",
       "    .dataframe thead th {\n",
       "        text-align: right;\n",
       "    }\n",
       "</style>\n",
       "<table border=\"1\" class=\"dataframe\">\n",
       "  <thead>\n",
       "    <tr style=\"text-align: right;\">\n",
       "      <th></th>\n",
       "      <th>Make</th>\n",
       "      <th>Colour</th>\n",
       "      <th>Odometer (KM)</th>\n",
       "      <th>Doors</th>\n",
       "      <th>Price</th>\n",
       "      <th>Engine Size</th>\n",
       "    </tr>\n",
       "  </thead>\n",
       "  <tbody>\n",
       "    <tr>\n",
       "      <th>1</th>\n",
       "      <td>honda</td>\n",
       "      <td>Red</td>\n",
       "      <td>87899</td>\n",
       "      <td>4</td>\n",
       "      <td>5000</td>\n",
       "      <td>2.5</td>\n",
       "    </tr>\n",
       "    <tr>\n",
       "      <th>3</th>\n",
       "      <td>bmw</td>\n",
       "      <td>Black</td>\n",
       "      <td>11179</td>\n",
       "      <td>5</td>\n",
       "      <td>22000</td>\n",
       "      <td>4.5</td>\n",
       "    </tr>\n",
       "    <tr>\n",
       "      <th>2</th>\n",
       "      <td>toyota</td>\n",
       "      <td>Blue</td>\n",
       "      <td>32549</td>\n",
       "      <td>3</td>\n",
       "      <td>7000</td>\n",
       "      <td>3.2</td>\n",
       "    </tr>\n",
       "    <tr>\n",
       "      <th>0</th>\n",
       "      <td>toyota</td>\n",
       "      <td>White</td>\n",
       "      <td>150043</td>\n",
       "      <td>4</td>\n",
       "      <td>4000</td>\n",
       "      <td>1.3</td>\n",
       "    </tr>\n",
       "    <tr>\n",
       "      <th>5</th>\n",
       "      <td>toyota</td>\n",
       "      <td>Green</td>\n",
       "      <td>99213</td>\n",
       "      <td>4</td>\n",
       "      <td>4500</td>\n",
       "      <td>6.7</td>\n",
       "    </tr>\n",
       "    <tr>\n",
       "      <th>4</th>\n",
       "      <td>nissan</td>\n",
       "      <td>White</td>\n",
       "      <td>213095</td>\n",
       "      <td>4</td>\n",
       "      <td>3500</td>\n",
       "      <td>5.6</td>\n",
       "    </tr>\n",
       "    <tr>\n",
       "      <th>7</th>\n",
       "      <td>honda</td>\n",
       "      <td>Blue</td>\n",
       "      <td>54738</td>\n",
       "      <td>4</td>\n",
       "      <td>7000</td>\n",
       "      <td>8.9</td>\n",
       "    </tr>\n",
       "    <tr>\n",
       "      <th>9</th>\n",
       "      <td>nissan</td>\n",
       "      <td>White</td>\n",
       "      <td>31600</td>\n",
       "      <td>4</td>\n",
       "      <td>9700</td>\n",
       "      <td>10.1</td>\n",
       "    </tr>\n",
       "    <tr>\n",
       "      <th>8</th>\n",
       "      <td>toyota</td>\n",
       "      <td>White</td>\n",
       "      <td>60000</td>\n",
       "      <td>4</td>\n",
       "      <td>6250</td>\n",
       "      <td>9.0</td>\n",
       "    </tr>\n",
       "    <tr>\n",
       "      <th>6</th>\n",
       "      <td>honda</td>\n",
       "      <td>Blue</td>\n",
       "      <td>45698</td>\n",
       "      <td>4</td>\n",
       "      <td>7500</td>\n",
       "      <td>7.8</td>\n",
       "    </tr>\n",
       "  </tbody>\n",
       "</table>\n",
       "</div>"
      ],
      "text/plain": [
       "     Make Colour  Odometer (KM)  Doors  Price  Engine Size\n",
       "1   honda    Red          87899      4   5000          2.5\n",
       "3     bmw  Black          11179      5  22000          4.5\n",
       "2  toyota   Blue          32549      3   7000          3.2\n",
       "0  toyota  White         150043      4   4000          1.3\n",
       "5  toyota  Green          99213      4   4500          6.7\n",
       "4  nissan  White         213095      4   3500          5.6\n",
       "7   honda   Blue          54738      4   7000          8.9\n",
       "9  nissan  White          31600      4   9700         10.1\n",
       "8  toyota  White          60000      4   6250          9.0\n",
       "6   honda   Blue          45698      4   7500          7.8"
      ]
     },
     "execution_count": 144,
     "metadata": {},
     "output_type": "execute_result"
    }
   ],
   "source": [
    "# Reset the indexes of the shuffled DataFrame\n",
    "car_sales"
   ]
  },
  {
   "cell_type": "markdown",
   "metadata": {},
   "source": [
    "Notice the index numbers have been changed to have order (start from 0)."
   ]
  },
  {
   "cell_type": "code",
   "execution_count": null,
   "metadata": {},
   "outputs": [],
   "source": [
    "# Change the Odometer values from kilometers to miles using a Lambda function\n",
    "# Then view the DataFrame\n"
   ]
  },
  {
   "cell_type": "code",
   "execution_count": null,
   "metadata": {},
   "outputs": [],
   "source": [
    "# Change the title of the Odometer (KM) to represent miles instead of kilometers\n"
   ]
  },
  {
   "cell_type": "markdown",
   "metadata": {},
   "source": [
    "## Extensions\n",
    "\n",
    "For more exercises, check out the pandas documentation, particularly the [10-minutes to pandas section](https://pandas.pydata.org/pandas-docs/stable/user_guide/10min.html). \n",
    "\n",
    "One great exercise would be to retype out the entire section into a Jupyter Notebook of your own.\n",
    "\n",
    "Get hands-on with the code and see what it does.\n",
    "\n",
    "The next place you should check out are the [top questions and answers on Stack Overflow for pandas](https://stackoverflow.com/questions/tagged/pandas?sort=MostVotes&edited=true). Often, these contain some of the most useful and common pandas functions. Be sure to play around with the different filters!\n",
    "\n",
    "Finally, always remember, the best way to learn something new to is try it. Make mistakes. Ask questions, get things wrong, take note of the things you do most often. And don't worry if you keep making the same mistake, pandas has many ways to do the same thing and is a big library. So it'll likely take a while before you get the hang of it."
   ]
  }
 ],
 "metadata": {
  "kernelspec": {
   "display_name": "Python 3.10.1 64-bit",
   "language": "python",
   "name": "python3"
  },
  "language_info": {
   "codemirror_mode": {
    "name": "ipython",
    "version": 3
   },
   "file_extension": ".py",
   "mimetype": "text/x-python",
   "name": "python",
   "nbconvert_exporter": "python",
   "pygments_lexer": "ipython3",
<<<<<<< HEAD
   "version": "3.10.6"
=======
   "version": "3.10.1 (tags/v3.10.1:2cd268a, Dec  6 2021, 19:10:37) [MSC v.1929 64 bit (AMD64)]"
>>>>>>> 53f3cbf4e1c33c543cf1d4a2e8355a4e63f1d5f5
  },
  "vscode": {
   "interpreter": {
    "hash": "bf71d659e7e25352b50d2f3f5a2bfa61015390b74d7295811df919d4dba6767b"
   }
  }
 },
 "nbformat": 4,
 "nbformat_minor": 2
}
